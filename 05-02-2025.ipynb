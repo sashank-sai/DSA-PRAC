{
 "cells": [
  {
   "cell_type": "code",
   "execution_count": 24,
   "id": "a81830f1-7219-41e9-98e6-6796a220ecf5",
   "metadata": {},
   "outputs": [
    {
     "name": "stdout",
     "output_type": "stream",
     "text": [
      "6\n",
      "1\n"
     ]
    }
   ],
   "source": [
    "x = [1,2,3,1,1,3,1,2,3,1,1]\n",
    "count = 0\n",
    "ma = 0\n",
    "k = 0\n",
    "for i in set(x):\n",
    "    count = sum(1 for j in x if (lambda j:j==i)(j))\n",
    "    if count>ma:\n",
    "        ma = count\n",
    "        k = i\n",
    "print(ma)\n",
    "print(k)"
   ]
  },
  {
   "cell_type": "code",
   "execution_count": 38,
   "id": "9803699c-2d25-4027-8a6d-8e1c61864153",
   "metadata": {},
   "outputs": [
    {
     "name": "stdout",
     "output_type": "stream",
     "text": [
      "the number is  4\n"
     ]
    }
   ],
   "source": [
    "arr = [1,2,3,5,6]\n",
    "n = len(arr)\n",
    "i = 1\n",
    "while i<n+1:\n",
    "    if i not in arr:\n",
    "        print(\"the number is \", i)\n",
    "    i += 1\n"
   ]
  },
  {
   "cell_type": "code",
   "execution_count": 40,
   "id": "32962e98-7d53-4d97-a64a-d9c926365eeb",
   "metadata": {},
   "outputs": [
    {
     "name": "stdout",
     "output_type": "stream",
     "text": [
      "[6, 2, 3]\n"
     ]
    }
   ],
   "source": [
    "x = [1,2,3,1,1,3,1,2,3,1,1]\n",
    "count = []\n",
    "\n",
    "for i in set(x):\n",
    "     count.append(sum(1 for j in x if (lambda j:j==i)(j)))\n",
    "    \n",
    "print(count)"
   ]
  },
  {
   "cell_type": "code",
   "execution_count": 46,
   "id": "e22d805c-34ca-4a17-811c-fa97c34250b1",
   "metadata": {},
   "outputs": [],
   "source": [
    "import numpy as np\n",
    "x = [9, 1, 4, 7, 3, -1, 0, 5, 8, -1, 6]\n",
    "x = np.array(x)"
   ]
  },
  {
   "cell_type": "code",
   "execution_count": 47,
   "id": "5154ae29-283b-419d-8036-a98a2733fe41",
   "metadata": {},
   "outputs": [
    {
     "name": "stdout",
     "output_type": "stream",
     "text": [
      "7\n"
     ]
    }
   ],
   "source": [
    "count = 0\n",
    "ma = 0\n",
    "for i in x:\n",
    "    while i<len(x):\n",
    "        if i in x:\n",
    "            count += 1\n",
    "            if count > ma:\n",
    "                ma = count\n",
    "            i += 1\n",
    "        else:\n",
    "            count = 0\n",
    "            break\n",
    "print(ma)\n"
   ]
  },
  {
   "cell_type": "code",
   "execution_count": null,
   "id": "0eef018e-7784-45be-8561-98a9c6c3dad3",
   "metadata": {},
   "outputs": [],
   "source": [
    "x = [1, 0, 1, 1, 0, 0]\n"
   ]
  }
 ],
 "metadata": {
  "kernelspec": {
   "display_name": "Python 3 (ipykernel)",
   "language": "python",
   "name": "python3"
  },
  "language_info": {
   "codemirror_mode": {
    "name": "ipython",
    "version": 3
   },
   "file_extension": ".py",
   "mimetype": "text/x-python",
   "name": "python",
   "nbconvert_exporter": "python",
   "pygments_lexer": "ipython3",
   "version": "3.12.4"
  }
 },
 "nbformat": 4,
 "nbformat_minor": 5
}
